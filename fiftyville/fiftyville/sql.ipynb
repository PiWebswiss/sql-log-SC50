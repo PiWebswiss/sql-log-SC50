{
 "cells": [
  {
   "cell_type": "markdown",
   "metadata": {},
   "source": [
    "# SQL code \n",
    "\n",
    "[COURES problem CS50](https://cs50.harvard.edu/x/2024/psets/7/fiftyville/)"
   ]
  },
  {
   "cell_type": "code",
   "execution_count": 1,
   "metadata": {},
   "outputs": [
    {
     "data": {
      "text/html": [
       "<span style=\"None\">Connecting to &#x27;sqlite:///fiftyville.db&#x27;</span>"
      ],
      "text/plain": [
       "Connecting to 'sqlite:///fiftyville.db'"
      ]
     },
     "metadata": {},
     "output_type": "display_data"
    }
   ],
   "source": [
    "# Load the extension:\n",
    "%load_ext sql\n",
    "\n",
    "# Connect to DB\n",
    "%sql sqlite:///fiftyville.db"
   ]
  },
  {
   "cell_type": "code",
   "execution_count": 2,
   "metadata": {},
   "outputs": [
    {
     "data": {
      "text/html": [
       "<span style=\"None\">Running query in &#x27;sqlite:///fiftyville.db&#x27;</span>"
      ],
      "text/plain": [
       "Running query in 'sqlite:///fiftyville.db'"
      ]
     },
     "metadata": {},
     "output_type": "display_data"
    },
    {
     "data": {
      "text/html": [
       "<table>\n",
       "    <thead>\n",
       "        <tr>\n",
       "            <th>sql</th>\n",
       "        </tr>\n",
       "    </thead>\n",
       "    <tbody>\n",
       "        <tr>\n",
       "            <td>CREATE TABLE crime_scene_reports (<br>    id INTEGER,<br>    year INTEGER,<br>    month INTEGER,<br>    day INTEGER,<br>    street TEXT,<br>    description TEXT,<br>    PRIMARY KEY(id)<br>)</td>\n",
       "        </tr>\n",
       "        <tr>\n",
       "            <td>CREATE TABLE interviews (<br>    id INTEGER,<br>    name TEXT,<br>    year INTEGER,<br>    month INTEGER,<br>    day INTEGER,<br>    transcript TEXT,<br>    PRIMARY KEY(id)<br>)</td>\n",
       "        </tr>\n",
       "        <tr>\n",
       "            <td>CREATE TABLE atm_transactions (<br>    id INTEGER,<br>    account_number INTEGER,<br>    year INTEGER,<br>    month INTEGER,<br>    day INTEGER,<br>    atm_location TEXT,<br>    transaction_type TEXT,<br>    amount INTEGER,<br>    PRIMARY KEY(id)<br>)</td>\n",
       "        </tr>\n",
       "        <tr>\n",
       "            <td>CREATE TABLE bank_accounts (<br>    account_number INTEGER,<br>    person_id INTEGER,<br>    creation_year INTEGER,<br>    FOREIGN KEY(person_id) REFERENCES people(id)<br>)</td>\n",
       "        </tr>\n",
       "        <tr>\n",
       "            <td>CREATE TABLE airports (<br>    id INTEGER,<br>    abbreviation TEXT,<br>    full_name TEXT,<br>    city TEXT,<br>    PRIMARY KEY(id)<br>)</td>\n",
       "        </tr>\n",
       "        <tr>\n",
       "            <td>CREATE TABLE flights (<br>    id INTEGER,<br>    origin_airport_id INTEGER,<br>    destination_airport_id INTEGER,<br>    year INTEGER,<br>    month INTEGER,<br>    day INTEGER,<br>    hour INTEGER,<br>    minute INTEGER,<br>    PRIMARY KEY(id),<br>    FOREIGN KEY(origin_airport_id) REFERENCES airports(id),<br>    FOREIGN KEY(destination_airport_id) REFERENCES airports(id)<br>)</td>\n",
       "        </tr>\n",
       "        <tr>\n",
       "            <td>CREATE TABLE passengers (<br>    flight_id INTEGER,<br>    passport_number INTEGER,<br>    seat TEXT,<br>    FOREIGN KEY(flight_id) REFERENCES flights(id)<br>)</td>\n",
       "        </tr>\n",
       "        <tr>\n",
       "            <td>CREATE TABLE phone_calls (<br>    id INTEGER,<br>    caller TEXT,<br>    receiver TEXT,<br>    year INTEGER,<br>    month INTEGER,<br>    day INTEGER,<br>    duration INTEGER,<br>    PRIMARY KEY(id)<br>)</td>\n",
       "        </tr>\n",
       "        <tr>\n",
       "            <td>CREATE TABLE people (<br>    id INTEGER,<br>    name TEXT,<br>    phone_number TEXT,<br>    passport_number INTEGER,<br>    license_plate TEXT,<br>    PRIMARY KEY(id)<br>)</td>\n",
       "        </tr>\n",
       "        <tr>\n",
       "            <td>CREATE TABLE bakery_security_logs (<br>    id INTEGER,<br>    year INTEGER,<br>    month INTEGER,<br>    day INTEGER,<br>    hour INTEGER,<br>    minute INTEGER,<br>    activity TEXT,<br>    license_plate TEXT,<br>    PRIMARY KEY(id)<br>)</td>\n",
       "        </tr>\n",
       "    </tbody>\n",
       "</table>\n",
       "<span style=\"font-style:italic;text-align:center;\">Truncated to <a href=\"https://jupysql.ploomber.io/en/latest/api/configuration.html#displaylimit\">displaylimit</a> of 10.</span>"
      ],
      "text/plain": [
       "+-----------------------------------------------------------------+\n",
       "|                               sql                               |\n",
       "+-----------------------------------------------------------------+\n",
       "|                CREATE TABLE crime_scene_reports (               |\n",
       "|                             id INTEGER,                         |\n",
       "|                            year INTEGER,                        |\n",
       "|                            month INTEGER,                       |\n",
       "|                             day INTEGER,                        |\n",
       "|                             street TEXT,                        |\n",
       "|                          description TEXT,                      |\n",
       "|                           PRIMARY KEY(id)                       |\n",
       "|                                )                                |\n",
       "|                    CREATE TABLE interviews (                    |\n",
       "|                             id INTEGER,                         |\n",
       "|                              name TEXT,                         |\n",
       "|                            year INTEGER,                        |\n",
       "|                            month INTEGER,                       |\n",
       "|                             day INTEGER,                        |\n",
       "|                           transcript TEXT,                      |\n",
       "|                           PRIMARY KEY(id)                       |\n",
       "|                                )                                |\n",
       "|                 CREATE TABLE atm_transactions (                 |\n",
       "|                             id INTEGER,                         |\n",
       "|                       account_number INTEGER,                   |\n",
       "|                            year INTEGER,                        |\n",
       "|                            month INTEGER,                       |\n",
       "|                             day INTEGER,                        |\n",
       "|                          atm_location TEXT,                     |\n",
       "|                        transaction_type TEXT,                   |\n",
       "|                           amount INTEGER,                       |\n",
       "|                           PRIMARY KEY(id)                       |\n",
       "|                                )                                |\n",
       "|                   CREATE TABLE bank_accounts (                  |\n",
       "|                       account_number INTEGER,                   |\n",
       "|                          person_id INTEGER,                     |\n",
       "|                        creation_year INTEGER,                   |\n",
       "|             FOREIGN KEY(person_id) REFERENCES people(id)        |\n",
       "|                                )                                |\n",
       "|                     CREATE TABLE airports (                     |\n",
       "|                             id INTEGER,                         |\n",
       "|                          abbreviation TEXT,                     |\n",
       "|                           full_name TEXT,                       |\n",
       "|                              city TEXT,                         |\n",
       "|                           PRIMARY KEY(id)                       |\n",
       "|                                )                                |\n",
       "|                      CREATE TABLE flights (                     |\n",
       "|                             id INTEGER,                         |\n",
       "|                      origin_airport_id INTEGER,                 |\n",
       "|                   destination_airport_id INTEGER,               |\n",
       "|                            year INTEGER,                        |\n",
       "|                            month INTEGER,                       |\n",
       "|                             day INTEGER,                        |\n",
       "|                            hour INTEGER,                        |\n",
       "|                           minute INTEGER,                       |\n",
       "|                           PRIMARY KEY(id),                      |\n",
       "|       FOREIGN KEY(origin_airport_id) REFERENCES airports(id),   |\n",
       "|     FOREIGN KEY(destination_airport_id) REFERENCES airports(id) |\n",
       "|                                )                                |\n",
       "|                    CREATE TABLE passengers (                    |\n",
       "|                          flight_id INTEGER,                     |\n",
       "|                       passport_number INTEGER,                  |\n",
       "|                              seat TEXT,                         |\n",
       "|            FOREIGN KEY(flight_id) REFERENCES flights(id)        |\n",
       "|                                )                                |\n",
       "|                    CREATE TABLE phone_calls (                   |\n",
       "|                             id INTEGER,                         |\n",
       "|                             caller TEXT,                        |\n",
       "|                            receiver TEXT,                       |\n",
       "|                            year INTEGER,                        |\n",
       "|                            month INTEGER,                       |\n",
       "|                             day INTEGER,                        |\n",
       "|                          duration INTEGER,                      |\n",
       "|                           PRIMARY KEY(id)                       |\n",
       "|                                )                                |\n",
       "|                      CREATE TABLE people (                      |\n",
       "|                             id INTEGER,                         |\n",
       "|                              name TEXT,                         |\n",
       "|                          phone_number TEXT,                     |\n",
       "|                       passport_number INTEGER,                  |\n",
       "|                         license_plate TEXT,                     |\n",
       "|                           PRIMARY KEY(id)                       |\n",
       "|                                )                                |\n",
       "|               CREATE TABLE bakery_security_logs (               |\n",
       "|                             id INTEGER,                         |\n",
       "|                            year INTEGER,                        |\n",
       "|                            month INTEGER,                       |\n",
       "|                             day INTEGER,                        |\n",
       "|                            hour INTEGER,                        |\n",
       "|                           minute INTEGER,                       |\n",
       "|                            activity TEXT,                       |\n",
       "|                         license_plate TEXT,                     |\n",
       "|                           PRIMARY KEY(id)                       |\n",
       "|                                )                                |\n",
       "+-----------------------------------------------------------------+\n",
       "Truncated to displaylimit of 10."
      ]
     },
     "execution_count": 2,
     "metadata": {},
     "output_type": "execute_result"
    }
   ],
   "source": [
    "%%sql\n",
    "SELECT sql FROM sqlite_master WHERE type='table';"
   ]
  },
  {
   "cell_type": "code",
   "execution_count": 3,
   "metadata": {},
   "outputs": [
    {
     "data": {
      "text/html": [
       "<span style=\"None\">Running query in &#x27;sqlite:///fiftyville.db&#x27;</span>"
      ],
      "text/plain": [
       "Running query in 'sqlite:///fiftyville.db'"
      ]
     },
     "metadata": {},
     "output_type": "display_data"
    },
    {
     "data": {
      "text/html": [
       "<table>\n",
       "    <thead>\n",
       "        <tr>\n",
       "            <th>description</th>\n",
       "        </tr>\n",
       "    </thead>\n",
       "    <tbody>\n",
       "        <tr>\n",
       "            <td>Theft of the CS50 duck took place at 10:15am at the Humphrey Street bakery. Interviews were conducted today with three witnesses who were present at the time – each of their interview transcripts mentions the bakery.</td>\n",
       "        </tr>\n",
       "        <tr>\n",
       "            <td>Littering took place at 16:36. No known witnesses.</td>\n",
       "        </tr>\n",
       "    </tbody>\n",
       "</table>"
      ],
      "text/plain": [
       "+--------------------------------------------------------------------------------------------------------------------------------------------------------------------------------------------------------------------------+\n",
       "|                                                                                                       description                                                                                                        |\n",
       "+--------------------------------------------------------------------------------------------------------------------------------------------------------------------------------------------------------------------------+\n",
       "| Theft of the CS50 duck took place at 10:15am at the Humphrey Street bakery. Interviews were conducted today with three witnesses who were present at the time – each of their interview transcripts mentions the bakery. |\n",
       "|                                                                                    Littering took place at 16:36. No known witnesses.                                                                                    |\n",
       "+--------------------------------------------------------------------------------------------------------------------------------------------------------------------------------------------------------------------------+"
      ]
     },
     "execution_count": 3,
     "metadata": {},
     "output_type": "execute_result"
    }
   ],
   "source": [
    "%%sql\n",
    "\n",
    "-- Find description of this crime\n",
    "SELECT description FROM crime_scene_reports\n",
    "WHERE month = 7 AND day = 28 \n",
    "AND street = 'Humphrey Street';\n"
   ]
  },
  {
   "cell_type": "markdown",
   "metadata": {},
   "source": [
    "-- Two incidents happened that day. Only one is related to a thief and we have three witnesses.\n",
    "-- Find interviews transcripts of witnesses\n",
    "\n"
   ]
  },
  {
   "cell_type": "code",
   "execution_count": 4,
   "metadata": {},
   "outputs": [
    {
     "data": {
      "text/html": [
       "<span style=\"None\">Running query in &#x27;sqlite:///fiftyville.db&#x27;</span>"
      ],
      "text/plain": [
       "Running query in 'sqlite:///fiftyville.db'"
      ]
     },
     "metadata": {},
     "output_type": "display_data"
    },
    {
     "data": {
      "text/html": [
       "<table>\n",
       "    <thead>\n",
       "        <tr>\n",
       "            <th>name</th>\n",
       "            <th>transcript</th>\n",
       "        </tr>\n",
       "    </thead>\n",
       "    <tbody>\n",
       "        <tr>\n",
       "            <td>Jose</td>\n",
       "            <td>“Ah,” said he, “I forgot that I had not seen you for some weeks. It is a little souvenir from the King of Bohemia in return for my assistance in the case of the Irene Adler papers.”</td>\n",
       "        </tr>\n",
       "        <tr>\n",
       "            <td>Eugene</td>\n",
       "            <td>“I suppose,” said Holmes, “that when Mr. Windibank came back from France he was very annoyed at your having gone to the ball.”</td>\n",
       "        </tr>\n",
       "        <tr>\n",
       "            <td>Barbara</td>\n",
       "            <td>“You had my note?” he asked with a deep harsh voice and a strongly marked German accent. “I told you that I would call.” He looked from one to the other of us, as if uncertain which to address.</td>\n",
       "        </tr>\n",
       "        <tr>\n",
       "            <td>Ruth</td>\n",
       "            <td>Sometime within ten minutes of the theft, I saw the thief get into a car in the bakery parking lot and drive away. If you have security footage from the bakery parking lot, you might want to look for cars that left the parking lot in that time frame.</td>\n",
       "        </tr>\n",
       "        <tr>\n",
       "            <td>Eugene</td>\n",
       "            <td>I don't know the thief's name, but it was someone I recognized. Earlier this morning, before I arrived at Emma's bakery, I was walking by the ATM on Leggett Street and saw the thief there withdrawing some money.</td>\n",
       "        </tr>\n",
       "        <tr>\n",
       "            <td>Raymond</td>\n",
       "            <td>As the thief was leaving the bakery, they called someone who talked to them for less than a minute. In the call, I heard the thief say that they were planning to take the earliest flight out of Fiftyville tomorrow. The thief then asked the person on the other end of the phone to purchase the flight ticket.</td>\n",
       "        </tr>\n",
       "        <tr>\n",
       "            <td>Lily</td>\n",
       "            <td>Our neighboring courthouse has a very annoying rooster that crows loudly at 6am every day. My sons Robert and Patrick took the rooster to a city far, far away, so it may never bother us again. My sons have successfully arrived in Paris.</td>\n",
       "        </tr>\n",
       "    </tbody>\n",
       "</table>"
      ],
      "text/plain": [
       "+---------+---------------------------------------------------------------------------------------------------------------------------------------------------------------------------------------------------------------------------------------------------------------------------------------------------------------------+\n",
       "|   name  |                                                                                                                                                      transcript                                                                                                                                                     |\n",
       "+---------+---------------------------------------------------------------------------------------------------------------------------------------------------------------------------------------------------------------------------------------------------------------------------------------------------------------------+\n",
       "|   Jose  |                                                                “Ah,” said he, “I forgot that I had not seen you for some weeks. It is a little souvenir from the King of Bohemia in return for my assistance in the case of the Irene Adler papers.”                                                                |\n",
       "|  Eugene |                                                                                            “I suppose,” said Holmes, “that when Mr. Windibank came back from France he was very annoyed at your having gone to the ball.”                                                                                           |\n",
       "| Barbara |                                                          “You had my note?” he asked with a deep harsh voice and a strongly marked German accent. “I told you that I would call.” He looked from one to the other of us, as if uncertain which to address.                                                          |\n",
       "|   Ruth  |                              Sometime within ten minutes of the theft, I saw the thief get into a car in the bakery parking lot and drive away. If you have security footage from the bakery parking lot, you might want to look for cars that left the parking lot in that time frame.                             |\n",
       "|  Eugene |                                                 I don't know the thief's name, but it was someone I recognized. Earlier this morning, before I arrived at Emma's bakery, I was walking by the ATM on Leggett Street and saw the thief there withdrawing some money.                                                 |\n",
       "| Raymond | As the thief was leaving the bakery, they called someone who talked to them for less than a minute. In the call, I heard the thief say that they were planning to take the earliest flight out of Fiftyville tomorrow. The thief then asked the person on the other end of the phone to purchase the flight ticket. |\n",
       "|   Lily  |                                     Our neighboring courthouse has a very annoying rooster that crows loudly at 6am every day. My sons Robert and Patrick took the rooster to a city far, far away, so it may never bother us again. My sons have successfully arrived in Paris.                                    |\n",
       "+---------+---------------------------------------------------------------------------------------------------------------------------------------------------------------------------------------------------------------------------------------------------------------------------------------------------------------------+"
      ]
     },
     "execution_count": 4,
     "metadata": {},
     "output_type": "execute_result"
    }
   ],
   "source": [
    "%%sql\n",
    "\n",
    "-- Find interviewes transcripts of witnesses\n",
    "SELECT name, transcript FROM interviews\n",
    "WHERE month = 7 AND day = 28 AND year = 2023;"
   ]
  },
  {
   "cell_type": "markdown",
   "metadata": {},
   "source": [
    "-- Select corresponding witnesses "
   ]
  },
  {
   "cell_type": "code",
   "execution_count": 5,
   "metadata": {},
   "outputs": [
    {
     "data": {
      "text/html": [
       "<span style=\"None\">Running query in &#x27;sqlite:///fiftyville.db&#x27;</span>"
      ],
      "text/plain": [
       "Running query in 'sqlite:///fiftyville.db'"
      ]
     },
     "metadata": {},
     "output_type": "display_data"
    },
    {
     "data": {
      "text/html": [
       "<table>\n",
       "    <thead>\n",
       "        <tr>\n",
       "            <th>name</th>\n",
       "            <th>transcript</th>\n",
       "        </tr>\n",
       "    </thead>\n",
       "    <tbody>\n",
       "        <tr>\n",
       "            <td>Ruth</td>\n",
       "            <td>Sometime within ten minutes of the theft, I saw the thief get into a car in the bakery parking lot and drive away. If you have security footage from the bakery parking lot, you might want to look for cars that left the parking lot in that time frame.</td>\n",
       "        </tr>\n",
       "        <tr>\n",
       "            <td>Eugene</td>\n",
       "            <td>I don't know the thief's name, but it was someone I recognized. Earlier this morning, before I arrived at Emma's bakery, I was walking by the ATM on Leggett Street and saw the thief there withdrawing some money.</td>\n",
       "        </tr>\n",
       "        <tr>\n",
       "            <td>Raymond</td>\n",
       "            <td>As the thief was leaving the bakery, they called someone who talked to them for less than a minute. In the call, I heard the thief say that they were planning to take the earliest flight out of Fiftyville tomorrow. The thief then asked the person on the other end of the phone to purchase the flight ticket.</td>\n",
       "        </tr>\n",
       "    </tbody>\n",
       "</table>"
      ],
      "text/plain": [
       "+---------+---------------------------------------------------------------------------------------------------------------------------------------------------------------------------------------------------------------------------------------------------------------------------------------------------------------------+\n",
       "|   name  |                                                                                                                                                      transcript                                                                                                                                                     |\n",
       "+---------+---------------------------------------------------------------------------------------------------------------------------------------------------------------------------------------------------------------------------------------------------------------------------------------------------------------------+\n",
       "|   Ruth  |                              Sometime within ten minutes of the theft, I saw the thief get into a car in the bakery parking lot and drive away. If you have security footage from the bakery parking lot, you might want to look for cars that left the parking lot in that time frame.                             |\n",
       "|  Eugene |                                                 I don't know the thief's name, but it was someone I recognized. Earlier this morning, before I arrived at Emma's bakery, I was walking by the ATM on Leggett Street and saw the thief there withdrawing some money.                                                 |\n",
       "| Raymond | As the thief was leaving the bakery, they called someone who talked to them for less than a minute. In the call, I heard the thief say that they were planning to take the earliest flight out of Fiftyville tomorrow. The thief then asked the person on the other end of the phone to purchase the flight ticket. |\n",
       "+---------+---------------------------------------------------------------------------------------------------------------------------------------------------------------------------------------------------------------------------------------------------------------------------------------------------------------------+"
      ]
     },
     "execution_count": 5,
     "metadata": {},
     "output_type": "execute_result"
    }
   ],
   "source": [
    "%%sql\n",
    "\n",
    "-- Selecting relevant witnesses\n",
    "SELECT name, transcript FROM interviews\n",
    "WHERE month = 7 AND day = 28 AND year = 2023 \n",
    "\n",
    "-- Get witnesses transcript\n",
    "AND name IN ('Ruth', 'Eugene', 'Raymond') \n",
    "AND transcript LIKE '%bakery%';"
   ]
  },
  {
   "cell_type": "markdown",
   "metadata": {},
   "source": [
    "-- Witnesses are- Eugene, Raymond, and Ruth.\n",
    "\n",
    "-- Ruth gave clues- The thief drove away in a car from the bakery, within 10 minutes from the theft. So, checking the license plates of cars within that timeframe. \n",
    "\n",
    "-- Then, checking out the names of those cars' owners. They could be suspect."
   ]
  },
  {
   "cell_type": "code",
   "execution_count": 6,
   "metadata": {},
   "outputs": [
    {
     "data": {
      "text/html": [
       "<span style=\"None\">Running query in &#x27;sqlite:///fiftyville.db&#x27;</span>"
      ],
      "text/plain": [
       "Running query in 'sqlite:///fiftyville.db'"
      ]
     },
     "metadata": {},
     "output_type": "display_data"
    },
    {
     "data": {
      "text/html": [
       "<table>\n",
       "    <thead>\n",
       "        <tr>\n",
       "            <th>id</th>\n",
       "            <th>year</th>\n",
       "            <th>month</th>\n",
       "            <th>day</th>\n",
       "            <th>hour</th>\n",
       "            <th>minute</th>\n",
       "            <th>activity</th>\n",
       "            <th>license_plate</th>\n",
       "        </tr>\n",
       "    </thead>\n",
       "    <tbody>\n",
       "        <tr>\n",
       "            <td>260</td>\n",
       "            <td>2023</td>\n",
       "            <td>7</td>\n",
       "            <td>28</td>\n",
       "            <td>10</td>\n",
       "            <td>16</td>\n",
       "            <td>exit</td>\n",
       "            <td>5P2BI95</td>\n",
       "        </tr>\n",
       "        <tr>\n",
       "            <td>261</td>\n",
       "            <td>2023</td>\n",
       "            <td>7</td>\n",
       "            <td>28</td>\n",
       "            <td>10</td>\n",
       "            <td>18</td>\n",
       "            <td>exit</td>\n",
       "            <td>94KL13X</td>\n",
       "        </tr>\n",
       "        <tr>\n",
       "            <td>262</td>\n",
       "            <td>2023</td>\n",
       "            <td>7</td>\n",
       "            <td>28</td>\n",
       "            <td>10</td>\n",
       "            <td>18</td>\n",
       "            <td>exit</td>\n",
       "            <td>6P58WS2</td>\n",
       "        </tr>\n",
       "        <tr>\n",
       "            <td>263</td>\n",
       "            <td>2023</td>\n",
       "            <td>7</td>\n",
       "            <td>28</td>\n",
       "            <td>10</td>\n",
       "            <td>19</td>\n",
       "            <td>exit</td>\n",
       "            <td>4328GD8</td>\n",
       "        </tr>\n",
       "        <tr>\n",
       "            <td>264</td>\n",
       "            <td>2023</td>\n",
       "            <td>7</td>\n",
       "            <td>28</td>\n",
       "            <td>10</td>\n",
       "            <td>20</td>\n",
       "            <td>exit</td>\n",
       "            <td>G412CB7</td>\n",
       "        </tr>\n",
       "        <tr>\n",
       "            <td>265</td>\n",
       "            <td>2023</td>\n",
       "            <td>7</td>\n",
       "            <td>28</td>\n",
       "            <td>10</td>\n",
       "            <td>21</td>\n",
       "            <td>exit</td>\n",
       "            <td>L93JTIZ</td>\n",
       "        </tr>\n",
       "        <tr>\n",
       "            <td>266</td>\n",
       "            <td>2023</td>\n",
       "            <td>7</td>\n",
       "            <td>28</td>\n",
       "            <td>10</td>\n",
       "            <td>23</td>\n",
       "            <td>exit</td>\n",
       "            <td>322W7JE</td>\n",
       "        </tr>\n",
       "        <tr>\n",
       "            <td>267</td>\n",
       "            <td>2023</td>\n",
       "            <td>7</td>\n",
       "            <td>28</td>\n",
       "            <td>10</td>\n",
       "            <td>23</td>\n",
       "            <td>exit</td>\n",
       "            <td>0NTHK55</td>\n",
       "        </tr>\n",
       "    </tbody>\n",
       "</table>"
      ],
      "text/plain": [
       "+-----+------+-------+-----+------+--------+----------+---------------+\n",
       "|  id | year | month | day | hour | minute | activity | license_plate |\n",
       "+-----+------+-------+-----+------+--------+----------+---------------+\n",
       "| 260 | 2023 |   7   |  28 |  10  |   16   |   exit   |    5P2BI95    |\n",
       "| 261 | 2023 |   7   |  28 |  10  |   18   |   exit   |    94KL13X    |\n",
       "| 262 | 2023 |   7   |  28 |  10  |   18   |   exit   |    6P58WS2    |\n",
       "| 263 | 2023 |   7   |  28 |  10  |   19   |   exit   |    4328GD8    |\n",
       "| 264 | 2023 |   7   |  28 |  10  |   20   |   exit   |    G412CB7    |\n",
       "| 265 | 2023 |   7   |  28 |  10  |   21   |   exit   |    L93JTIZ    |\n",
       "| 266 | 2023 |   7   |  28 |  10  |   23   |   exit   |    322W7JE    |\n",
       "| 267 | 2023 |   7   |  28 |  10  |   23   |   exit   |    0NTHK55    |\n",
       "+-----+------+-------+-----+------+--------+----------+---------------+"
      ]
     },
     "execution_count": 6,
     "metadata": {},
     "output_type": "execute_result"
    }
   ],
   "source": [
    "%%sql\n",
    "\n",
    "-- GET bakery security logs at 10:15am \n",
    "SELECT * FROM bakery_security_logs\n",
    "WHERE\n",
    "activity = 'exit'\n",
    "AND month = 7 \n",
    "AND day = 28 \n",
    "AND year = 2023\n",
    "\n",
    "-- Select expected timeframe (between 10:15am and 10:25am)\n",
    "AND hour = 10 AND minute BETWEEN 15 AND 25;"
   ]
  },
  {
   "cell_type": "markdown",
   "metadata": {},
   "source": [
    "-- We have the license_plate now I should check who is the owner. "
   ]
  },
  {
   "cell_type": "code",
   "execution_count": 7,
   "metadata": {},
   "outputs": [
    {
     "data": {
      "text/html": [
       "<span style=\"None\">Running query in &#x27;sqlite:///fiftyville.db&#x27;</span>"
      ],
      "text/plain": [
       "Running query in 'sqlite:///fiftyville.db'"
      ]
     },
     "metadata": {},
     "output_type": "display_data"
    },
    {
     "data": {
      "text/html": [
       "<table>\n",
       "    <thead>\n",
       "        <tr>\n",
       "            <th>id</th>\n",
       "            <th>name</th>\n",
       "            <th>phone_number</th>\n",
       "            <th>passport_number</th>\n",
       "            <th>hour</th>\n",
       "            <th>minute</th>\n",
       "        </tr>\n",
       "    </thead>\n",
       "    <tbody>\n",
       "        <tr>\n",
       "            <td>221103</td>\n",
       "            <td>Vanessa</td>\n",
       "            <td>(725) 555-4692</td>\n",
       "            <td>2963008352</td>\n",
       "            <td>10</td>\n",
       "            <td>16</td>\n",
       "        </tr>\n",
       "        <tr>\n",
       "            <td>686048</td>\n",
       "            <td>Bruce</td>\n",
       "            <td>(367) 555-5533</td>\n",
       "            <td>5773159633</td>\n",
       "            <td>10</td>\n",
       "            <td>18</td>\n",
       "        </tr>\n",
       "        <tr>\n",
       "            <td>243696</td>\n",
       "            <td>Barry</td>\n",
       "            <td>(301) 555-4174</td>\n",
       "            <td>7526138472</td>\n",
       "            <td>10</td>\n",
       "            <td>18</td>\n",
       "        </tr>\n",
       "        <tr>\n",
       "            <td>467400</td>\n",
       "            <td>Luca</td>\n",
       "            <td>(389) 555-5198</td>\n",
       "            <td>8496433585</td>\n",
       "            <td>10</td>\n",
       "            <td>19</td>\n",
       "        </tr>\n",
       "        <tr>\n",
       "            <td>398010</td>\n",
       "            <td>Sofia</td>\n",
       "            <td>(130) 555-0289</td>\n",
       "            <td>1695452385</td>\n",
       "            <td>10</td>\n",
       "            <td>20</td>\n",
       "        </tr>\n",
       "        <tr>\n",
       "            <td>396669</td>\n",
       "            <td>Iman</td>\n",
       "            <td>(829) 555-5269</td>\n",
       "            <td>7049073643</td>\n",
       "            <td>10</td>\n",
       "            <td>21</td>\n",
       "        </tr>\n",
       "        <tr>\n",
       "            <td>514354</td>\n",
       "            <td>Diana</td>\n",
       "            <td>(770) 555-1861</td>\n",
       "            <td>3592750733</td>\n",
       "            <td>10</td>\n",
       "            <td>23</td>\n",
       "        </tr>\n",
       "        <tr>\n",
       "            <td>560886</td>\n",
       "            <td>Kelsey</td>\n",
       "            <td>(499) 555-9472</td>\n",
       "            <td>8294398571</td>\n",
       "            <td>10</td>\n",
       "            <td>23</td>\n",
       "        </tr>\n",
       "    </tbody>\n",
       "</table>"
      ],
      "text/plain": [
       "+--------+---------+----------------+-----------------+------+--------+\n",
       "|   id   |   name  |  phone_number  | passport_number | hour | minute |\n",
       "+--------+---------+----------------+-----------------+------+--------+\n",
       "| 221103 | Vanessa | (725) 555-4692 |    2963008352   |  10  |   16   |\n",
       "| 686048 |  Bruce  | (367) 555-5533 |    5773159633   |  10  |   18   |\n",
       "| 243696 |  Barry  | (301) 555-4174 |    7526138472   |  10  |   18   |\n",
       "| 467400 |   Luca  | (389) 555-5198 |    8496433585   |  10  |   19   |\n",
       "| 398010 |  Sofia  | (130) 555-0289 |    1695452385   |  10  |   20   |\n",
       "| 396669 |   Iman  | (829) 555-5269 |    7049073643   |  10  |   21   |\n",
       "| 514354 |  Diana  | (770) 555-1861 |    3592750733   |  10  |   23   |\n",
       "| 560886 |  Kelsey | (499) 555-9472 |    8294398571   |  10  |   23   |\n",
       "+--------+---------+----------------+-----------------+------+--------+"
      ]
     },
     "execution_count": 7,
     "metadata": {},
     "output_type": "execute_result"
    }
   ],
   "source": [
    "%%sql\n",
    "\n",
    "-- Select name of possible thief using people table\n",
    "SELECT people.id, name, phone_number, passport_number, bakery.hour, bakery.minute\n",
    "FROM people\n",
    "JOIN bakery_security_logs AS bakery ON people.license_plate = bakery.license_plate\n",
    "WHERE activity = 'exit'\n",
    "AND month = 7 \n",
    "AND day = 28 \n",
    "AND year = 2023\n",
    "\n",
    "-- Select expected timeframe (between 10:15am and 10:25am)\n",
    "AND hour = 10\n",
    "AND minute BETWEEN 15 AND 25\n",
    "\n",
    "ORDER BY bakery.minute;"
   ]
  },
  {
   "cell_type": "markdown",
   "metadata": {},
   "source": [
    "-- Create a temporary table for future analyze named possible_suspects"
   ]
  },
  {
   "cell_type": "code",
   "execution_count": 8,
   "metadata": {},
   "outputs": [
    {
     "data": {
      "text/html": [
       "<span style=\"None\">Running query in &#x27;sqlite:///fiftyville.db&#x27;</span>"
      ],
      "text/plain": [
       "Running query in 'sqlite:///fiftyville.db'"
      ]
     },
     "metadata": {},
     "output_type": "display_data"
    },
    {
     "data": {
      "text/html": [
       "<table>\n",
       "    <thead>\n",
       "        <tr>\n",
       "        </tr>\n",
       "    </thead>\n",
       "    <tbody>\n",
       "    </tbody>\n",
       "</table>"
      ],
      "text/plain": [
       "++\n",
       "||\n",
       "++\n",
       "++"
      ]
     },
     "execution_count": 8,
     "metadata": {},
     "output_type": "execute_result"
    }
   ],
   "source": [
    "%%sql\n",
    "\n",
    "-- Create a temporary table possible_suspects\n",
    "CREATE TEMPORARY TABLE possible_suspects AS\n",
    "\n",
    "-- Select name of possible thief using people table\n",
    "SELECT people.id, name, phone_number, passport_number, bakery.hour, bakery.minute\n",
    "FROM people\n",
    "JOIN bakery_security_logs AS bakery ON people.license_plate = bakery.license_plate\n",
    "WHERE activity = 'exit'\n",
    "AND month = 7 \n",
    "AND day = 28 \n",
    "AND year = 2023\n",
    "\n",
    "-- Select expected timeframe (between 10:15am and 10:25am)\n",
    "AND hour = 10\n",
    "AND minute BETWEEN 15 AND 25\n",
    "\n",
    "ORDER BY bakery.minute;"
   ]
  },
  {
   "cell_type": "markdown",
   "metadata": {},
   "source": [
    ">**Note:** <br> Temporary tables are session-specific and are dropped automatically at the end of the session."
   ]
  },
  {
   "cell_type": "code",
   "execution_count": 9,
   "metadata": {},
   "outputs": [
    {
     "data": {
      "text/html": [
       "<span style=\"None\">Running query in &#x27;sqlite:///fiftyville.db&#x27;</span>"
      ],
      "text/plain": [
       "Running query in 'sqlite:///fiftyville.db'"
      ]
     },
     "metadata": {},
     "output_type": "display_data"
    },
    {
     "data": {
      "text/html": [
       "<table>\n",
       "    <thead>\n",
       "        <tr>\n",
       "            <th>id</th>\n",
       "            <th>name</th>\n",
       "            <th>phone_number</th>\n",
       "            <th>passport_number</th>\n",
       "            <th>hour</th>\n",
       "            <th>minute</th>\n",
       "        </tr>\n",
       "    </thead>\n",
       "    <tbody>\n",
       "        <tr>\n",
       "            <td>221103</td>\n",
       "            <td>Vanessa</td>\n",
       "            <td>(725) 555-4692</td>\n",
       "            <td>2963008352</td>\n",
       "            <td>10</td>\n",
       "            <td>16</td>\n",
       "        </tr>\n",
       "        <tr>\n",
       "            <td>686048</td>\n",
       "            <td>Bruce</td>\n",
       "            <td>(367) 555-5533</td>\n",
       "            <td>5773159633</td>\n",
       "            <td>10</td>\n",
       "            <td>18</td>\n",
       "        </tr>\n",
       "        <tr>\n",
       "            <td>243696</td>\n",
       "            <td>Barry</td>\n",
       "            <td>(301) 555-4174</td>\n",
       "            <td>7526138472</td>\n",
       "            <td>10</td>\n",
       "            <td>18</td>\n",
       "        </tr>\n",
       "        <tr>\n",
       "            <td>467400</td>\n",
       "            <td>Luca</td>\n",
       "            <td>(389) 555-5198</td>\n",
       "            <td>8496433585</td>\n",
       "            <td>10</td>\n",
       "            <td>19</td>\n",
       "        </tr>\n",
       "        <tr>\n",
       "            <td>398010</td>\n",
       "            <td>Sofia</td>\n",
       "            <td>(130) 555-0289</td>\n",
       "            <td>1695452385</td>\n",
       "            <td>10</td>\n",
       "            <td>20</td>\n",
       "        </tr>\n",
       "        <tr>\n",
       "            <td>396669</td>\n",
       "            <td>Iman</td>\n",
       "            <td>(829) 555-5269</td>\n",
       "            <td>7049073643</td>\n",
       "            <td>10</td>\n",
       "            <td>21</td>\n",
       "        </tr>\n",
       "        <tr>\n",
       "            <td>514354</td>\n",
       "            <td>Diana</td>\n",
       "            <td>(770) 555-1861</td>\n",
       "            <td>3592750733</td>\n",
       "            <td>10</td>\n",
       "            <td>23</td>\n",
       "        </tr>\n",
       "        <tr>\n",
       "            <td>560886</td>\n",
       "            <td>Kelsey</td>\n",
       "            <td>(499) 555-9472</td>\n",
       "            <td>8294398571</td>\n",
       "            <td>10</td>\n",
       "            <td>23</td>\n",
       "        </tr>\n",
       "    </tbody>\n",
       "</table>"
      ],
      "text/plain": [
       "+--------+---------+----------------+-----------------+------+--------+\n",
       "|   id   |   name  |  phone_number  | passport_number | hour | minute |\n",
       "+--------+---------+----------------+-----------------+------+--------+\n",
       "| 221103 | Vanessa | (725) 555-4692 |    2963008352   |  10  |   16   |\n",
       "| 686048 |  Bruce  | (367) 555-5533 |    5773159633   |  10  |   18   |\n",
       "| 243696 |  Barry  | (301) 555-4174 |    7526138472   |  10  |   18   |\n",
       "| 467400 |   Luca  | (389) 555-5198 |    8496433585   |  10  |   19   |\n",
       "| 398010 |  Sofia  | (130) 555-0289 |    1695452385   |  10  |   20   |\n",
       "| 396669 |   Iman  | (829) 555-5269 |    7049073643   |  10  |   21   |\n",
       "| 514354 |  Diana  | (770) 555-1861 |    3592750733   |  10  |   23   |\n",
       "| 560886 |  Kelsey | (499) 555-9472 |    8294398571   |  10  |   23   |\n",
       "+--------+---------+----------------+-----------------+------+--------+"
      ]
     },
     "execution_count": 9,
     "metadata": {},
     "output_type": "execute_result"
    }
   ],
   "source": [
    "%%sql \n",
    "\n",
    "-- Display table\n",
    "SELECT * FROM possible_suspects;"
   ]
  },
  {
   "cell_type": "markdown",
   "metadata": {},
   "source": [
    "-- Eugene gave clues the thief was withdrawing money from the ATM on Leggett Street. "
   ]
  },
  {
   "cell_type": "code",
   "execution_count": 10,
   "metadata": {},
   "outputs": [
    {
     "data": {
      "text/html": [
       "<span style=\"None\">Running query in &#x27;sqlite:///fiftyville.db&#x27;</span>"
      ],
      "text/plain": [
       "Running query in 'sqlite:///fiftyville.db'"
      ]
     },
     "metadata": {},
     "output_type": "display_data"
    },
    {
     "data": {
      "text/html": [
       "<table>\n",
       "    <thead>\n",
       "        <tr>\n",
       "            <th>id</th>\n",
       "            <th>account_number</th>\n",
       "            <th>year</th>\n",
       "            <th>month</th>\n",
       "            <th>day</th>\n",
       "            <th>atm_location</th>\n",
       "            <th>transaction_type</th>\n",
       "            <th>amount</th>\n",
       "        </tr>\n",
       "    </thead>\n",
       "    <tbody>\n",
       "        <tr>\n",
       "            <td>246</td>\n",
       "            <td>28500762</td>\n",
       "            <td>2023</td>\n",
       "            <td>7</td>\n",
       "            <td>28</td>\n",
       "            <td>Leggett Street</td>\n",
       "            <td>withdraw</td>\n",
       "            <td>48</td>\n",
       "        </tr>\n",
       "        <tr>\n",
       "            <td>264</td>\n",
       "            <td>28296815</td>\n",
       "            <td>2023</td>\n",
       "            <td>7</td>\n",
       "            <td>28</td>\n",
       "            <td>Leggett Street</td>\n",
       "            <td>withdraw</td>\n",
       "            <td>20</td>\n",
       "        </tr>\n",
       "        <tr>\n",
       "            <td>266</td>\n",
       "            <td>76054385</td>\n",
       "            <td>2023</td>\n",
       "            <td>7</td>\n",
       "            <td>28</td>\n",
       "            <td>Leggett Street</td>\n",
       "            <td>withdraw</td>\n",
       "            <td>60</td>\n",
       "        </tr>\n",
       "        <tr>\n",
       "            <td>267</td>\n",
       "            <td>49610011</td>\n",
       "            <td>2023</td>\n",
       "            <td>7</td>\n",
       "            <td>28</td>\n",
       "            <td>Leggett Street</td>\n",
       "            <td>withdraw</td>\n",
       "            <td>50</td>\n",
       "        </tr>\n",
       "        <tr>\n",
       "            <td>269</td>\n",
       "            <td>16153065</td>\n",
       "            <td>2023</td>\n",
       "            <td>7</td>\n",
       "            <td>28</td>\n",
       "            <td>Leggett Street</td>\n",
       "            <td>withdraw</td>\n",
       "            <td>80</td>\n",
       "        </tr>\n",
       "        <tr>\n",
       "            <td>288</td>\n",
       "            <td>25506511</td>\n",
       "            <td>2023</td>\n",
       "            <td>7</td>\n",
       "            <td>28</td>\n",
       "            <td>Leggett Street</td>\n",
       "            <td>withdraw</td>\n",
       "            <td>20</td>\n",
       "        </tr>\n",
       "        <tr>\n",
       "            <td>313</td>\n",
       "            <td>81061156</td>\n",
       "            <td>2023</td>\n",
       "            <td>7</td>\n",
       "            <td>28</td>\n",
       "            <td>Leggett Street</td>\n",
       "            <td>withdraw</td>\n",
       "            <td>30</td>\n",
       "        </tr>\n",
       "        <tr>\n",
       "            <td>336</td>\n",
       "            <td>26013199</td>\n",
       "            <td>2023</td>\n",
       "            <td>7</td>\n",
       "            <td>28</td>\n",
       "            <td>Leggett Street</td>\n",
       "            <td>withdraw</td>\n",
       "            <td>35</td>\n",
       "        </tr>\n",
       "    </tbody>\n",
       "</table>"
      ],
      "text/plain": [
       "+-----+----------------+------+-------+-----+----------------+------------------+--------+\n",
       "|  id | account_number | year | month | day |  atm_location  | transaction_type | amount |\n",
       "+-----+----------------+------+-------+-----+----------------+------------------+--------+\n",
       "| 246 |    28500762    | 2023 |   7   |  28 | Leggett Street |     withdraw     |   48   |\n",
       "| 264 |    28296815    | 2023 |   7   |  28 | Leggett Street |     withdraw     |   20   |\n",
       "| 266 |    76054385    | 2023 |   7   |  28 | Leggett Street |     withdraw     |   60   |\n",
       "| 267 |    49610011    | 2023 |   7   |  28 | Leggett Street |     withdraw     |   50   |\n",
       "| 269 |    16153065    | 2023 |   7   |  28 | Leggett Street |     withdraw     |   80   |\n",
       "| 288 |    25506511    | 2023 |   7   |  28 | Leggett Street |     withdraw     |   20   |\n",
       "| 313 |    81061156    | 2023 |   7   |  28 | Leggett Street |     withdraw     |   30   |\n",
       "| 336 |    26013199    | 2023 |   7   |  28 | Leggett Street |     withdraw     |   35   |\n",
       "+-----+----------------+------+-------+-----+----------------+------------------+--------+"
      ]
     },
     "execution_count": 10,
     "metadata": {},
     "output_type": "execute_result"
    }
   ],
   "source": [
    "%%sql\n",
    "\n",
    "-- Find ATM withdraw the day of the stolen duck\n",
    "SELECT * FROM atm_transactions\n",
    "WHERE atm_location = 'Leggett Street' AND transaction_type = 'withdraw'\n",
    "AND month = 7 AND day = 28 AND year = 2023;"
   ]
  },
  {
   "cell_type": "markdown",
   "metadata": {},
   "source": [
    "-- Create a temporary table for future analyze named suspects"
   ]
  },
  {
   "cell_type": "code",
   "execution_count": 11,
   "metadata": {},
   "outputs": [
    {
     "data": {
      "text/html": [
       "<span style=\"None\">Running query in &#x27;sqlite:///fiftyville.db&#x27;</span>"
      ],
      "text/plain": [
       "Running query in 'sqlite:///fiftyville.db'"
      ]
     },
     "metadata": {},
     "output_type": "display_data"
    },
    {
     "data": {
      "text/html": [
       "<table>\n",
       "    <thead>\n",
       "        <tr>\n",
       "        </tr>\n",
       "    </thead>\n",
       "    <tbody>\n",
       "    </tbody>\n",
       "</table>"
      ],
      "text/plain": [
       "++\n",
       "||\n",
       "++\n",
       "++"
      ]
     },
     "execution_count": 11,
     "metadata": {},
     "output_type": "execute_result"
    }
   ],
   "source": [
    "%%sql \n",
    "\n",
    "-- Create a temporary table suspects\n",
    "CREATE TEMPORARY TABLE suspects AS\n",
    "\n",
    "-- Find the related name of suspects\n",
    "SELECT * FROM possible_suspects\n",
    "WHERE id IN (\n",
    "    \n",
    "    -- Select people ids \n",
    "    SELECT person_id FROM bank_accounts\n",
    "    JOIN atm_transactions ON bank_accounts.account_number = atm_transactions.account_number\n",
    "    \n",
    "    -- Find ATM withdraw the day of the stolen duck\n",
    "    WHERE atm_location = 'Leggett Street' AND transaction_type = 'withdraw'\n",
    "    AND month = 7 AND day = 28 AND year = 2023\n",
    ");"
   ]
  },
  {
   "cell_type": "code",
   "execution_count": 12,
   "metadata": {},
   "outputs": [
    {
     "data": {
      "text/html": [
       "<span style=\"None\">Running query in &#x27;sqlite:///fiftyville.db&#x27;</span>"
      ],
      "text/plain": [
       "Running query in 'sqlite:///fiftyville.db'"
      ]
     },
     "metadata": {},
     "output_type": "display_data"
    },
    {
     "data": {
      "text/html": [
       "<table>\n",
       "    <thead>\n",
       "        <tr>\n",
       "            <th>id</th>\n",
       "            <th>name</th>\n",
       "            <th>phone_number</th>\n",
       "            <th>passport_number</th>\n",
       "            <th>hour</th>\n",
       "            <th>minute</th>\n",
       "        </tr>\n",
       "    </thead>\n",
       "    <tbody>\n",
       "        <tr>\n",
       "            <td>686048</td>\n",
       "            <td>Bruce</td>\n",
       "            <td>(367) 555-5533</td>\n",
       "            <td>5773159633</td>\n",
       "            <td>10</td>\n",
       "            <td>18</td>\n",
       "        </tr>\n",
       "        <tr>\n",
       "            <td>467400</td>\n",
       "            <td>Luca</td>\n",
       "            <td>(389) 555-5198</td>\n",
       "            <td>8496433585</td>\n",
       "            <td>10</td>\n",
       "            <td>19</td>\n",
       "        </tr>\n",
       "        <tr>\n",
       "            <td>396669</td>\n",
       "            <td>Iman</td>\n",
       "            <td>(829) 555-5269</td>\n",
       "            <td>7049073643</td>\n",
       "            <td>10</td>\n",
       "            <td>21</td>\n",
       "        </tr>\n",
       "        <tr>\n",
       "            <td>514354</td>\n",
       "            <td>Diana</td>\n",
       "            <td>(770) 555-1861</td>\n",
       "            <td>3592750733</td>\n",
       "            <td>10</td>\n",
       "            <td>23</td>\n",
       "        </tr>\n",
       "    </tbody>\n",
       "</table>"
      ],
      "text/plain": [
       "+--------+-------+----------------+-----------------+------+--------+\n",
       "|   id   |  name |  phone_number  | passport_number | hour | minute |\n",
       "+--------+-------+----------------+-----------------+------+--------+\n",
       "| 686048 | Bruce | (367) 555-5533 |    5773159633   |  10  |   18   |\n",
       "| 467400 |  Luca | (389) 555-5198 |    8496433585   |  10  |   19   |\n",
       "| 396669 |  Iman | (829) 555-5269 |    7049073643   |  10  |   21   |\n",
       "| 514354 | Diana | (770) 555-1861 |    3592750733   |  10  |   23   |\n",
       "+--------+-------+----------------+-----------------+------+--------+"
      ]
     },
     "execution_count": 12,
     "metadata": {},
     "output_type": "execute_result"
    }
   ],
   "source": [
    "%%sql\n",
    "\n",
    "-- Display suspects table\n",
    "SELECT * FROM suspects;"
   ]
  },
  {
   "cell_type": "markdown",
   "metadata": {},
   "source": [
    "-- Raymond gave clues\n",
    "\n",
    "-- As leaving the bakery, they called a person and talked for less than a minute. \n",
    "\n",
    "-- They asked the person on the other end to purchase the flight ticket.\n",
    "\n",
    "-- Check whom the thief called using the specified time frame and filter for calls with a duration of less than 1 minute.\n",
    "\n",
    "-- Create a temporary table for future analyze named thief_suspects"
   ]
  },
  {
   "cell_type": "markdown",
   "metadata": {},
   "source": [
    "-- Create a temporary table for future analyze named thief_suspects"
   ]
  },
  {
   "cell_type": "code",
   "execution_count": 13,
   "metadata": {},
   "outputs": [
    {
     "data": {
      "text/html": [
       "<span style=\"None\">Running query in &#x27;sqlite:///fiftyville.db&#x27;</span>"
      ],
      "text/plain": [
       "Running query in 'sqlite:///fiftyville.db'"
      ]
     },
     "metadata": {},
     "output_type": "display_data"
    },
    {
     "data": {
      "text/html": [
       "<table>\n",
       "    <thead>\n",
       "        <tr>\n",
       "        </tr>\n",
       "    </thead>\n",
       "    <tbody>\n",
       "    </tbody>\n",
       "</table>"
      ],
      "text/plain": [
       "++\n",
       "||\n",
       "++\n",
       "++"
      ]
     },
     "execution_count": 13,
     "metadata": {},
     "output_type": "execute_result"
    }
   ],
   "source": [
    "%%sql\n",
    "\n",
    "-- Create a temporary table of thief_suspects\n",
    "CREATE TEMPORARY TABLE thief_suspects AS\n",
    "\n",
    "-- Get the name of people who called\n",
    "SELECT * FROM suspects\n",
    "WHERE phone_number IN\n",
    "(  \n",
    "    -- The thief called someone for less than 1 min \n",
    "    SELECT caller FROM phone_calls\n",
    "    WHERE month = 7 AND day = 28 AND year = 2023 AND duration <= 60\n",
    ");"
   ]
  },
  {
   "cell_type": "code",
   "execution_count": 14,
   "metadata": {},
   "outputs": [
    {
     "data": {
      "text/html": [
       "<span style=\"None\">Running query in &#x27;sqlite:///fiftyville.db&#x27;</span>"
      ],
      "text/plain": [
       "Running query in 'sqlite:///fiftyville.db'"
      ]
     },
     "metadata": {},
     "output_type": "display_data"
    },
    {
     "data": {
      "text/html": [
       "<table>\n",
       "    <thead>\n",
       "        <tr>\n",
       "            <th>id</th>\n",
       "            <th>name</th>\n",
       "            <th>phone_number</th>\n",
       "            <th>passport_number</th>\n",
       "            <th>hour</th>\n",
       "            <th>minute</th>\n",
       "        </tr>\n",
       "    </thead>\n",
       "    <tbody>\n",
       "        <tr>\n",
       "            <td>686048</td>\n",
       "            <td>Bruce</td>\n",
       "            <td>(367) 555-5533</td>\n",
       "            <td>5773159633</td>\n",
       "            <td>10</td>\n",
       "            <td>18</td>\n",
       "        </tr>\n",
       "        <tr>\n",
       "            <td>514354</td>\n",
       "            <td>Diana</td>\n",
       "            <td>(770) 555-1861</td>\n",
       "            <td>3592750733</td>\n",
       "            <td>10</td>\n",
       "            <td>23</td>\n",
       "        </tr>\n",
       "    </tbody>\n",
       "</table>"
      ],
      "text/plain": [
       "+--------+-------+----------------+-----------------+------+--------+\n",
       "|   id   |  name |  phone_number  | passport_number | hour | minute |\n",
       "+--------+-------+----------------+-----------------+------+--------+\n",
       "| 686048 | Bruce | (367) 555-5533 |    5773159633   |  10  |   18   |\n",
       "| 514354 | Diana | (770) 555-1861 |    3592750733   |  10  |   23   |\n",
       "+--------+-------+----------------+-----------------+------+--------+"
      ]
     },
     "execution_count": 14,
     "metadata": {},
     "output_type": "execute_result"
    }
   ],
   "source": [
    "%%sql\n",
    "\n",
    "-- Display table\n",
    "SELECT * FROM thief_suspects"
   ]
  },
  {
   "cell_type": "markdown",
   "metadata": {},
   "source": [
    "-- The thief is one of this two \n",
    "-- Next let check who took the airplane on the 29 (the day after)"
   ]
  },
  {
   "cell_type": "code",
   "execution_count": 15,
   "metadata": {},
   "outputs": [
    {
     "data": {
      "text/html": [
       "<span style=\"None\">Running query in &#x27;sqlite:///fiftyville.db&#x27;</span>"
      ],
      "text/plain": [
       "Running query in 'sqlite:///fiftyville.db'"
      ]
     },
     "metadata": {},
     "output_type": "display_data"
    },
    {
     "data": {
      "text/html": [
       "<table>\n",
       "    <thead>\n",
       "        <tr>\n",
       "            <th>hour</th>\n",
       "            <th>minute</th>\n",
       "            <th>name</th>\n",
       "            <th>phone_number</th>\n",
       "            <th>passport_number</th>\n",
       "        </tr>\n",
       "    </thead>\n",
       "    <tbody>\n",
       "        <tr>\n",
       "            <td>8</td>\n",
       "            <td>20</td>\n",
       "            <td>Bruce</td>\n",
       "            <td>(367) 555-5533</td>\n",
       "            <td>5773159633</td>\n",
       "        </tr>\n",
       "        <tr>\n",
       "            <td>16</td>\n",
       "            <td>0</td>\n",
       "            <td>Diana</td>\n",
       "            <td>(770) 555-1861</td>\n",
       "            <td>3592750733</td>\n",
       "        </tr>\n",
       "    </tbody>\n",
       "</table>"
      ],
      "text/plain": [
       "+------+--------+-------+----------------+-----------------+\n",
       "| hour | minute |  name |  phone_number  | passport_number |\n",
       "+------+--------+-------+----------------+-----------------+\n",
       "|  8   |   20   | Bruce | (367) 555-5533 |    5773159633   |\n",
       "|  16  |   0    | Diana | (770) 555-1861 |    3592750733   |\n",
       "+------+--------+-------+----------------+-----------------+"
      ]
     },
     "execution_count": 15,
     "metadata": {},
     "output_type": "execute_result"
    }
   ],
   "source": [
    "%%sql\n",
    "\n",
    "SELECT flights.hour, flights.minute, name, phone_number, thief_suspects.passport_number FROM passengers\n",
    "JOIN thief_suspects ON passengers.passport_number = thief_suspects.passport_number\n",
    "JOIN flights ON passengers.flight_id = flights.id\n",
    "-- Select the corresponding day\n",
    "WHERE year = 2023 \n",
    "AND month = 7\n",
    "AND day = 29\n",
    "-- Order by departer time\n",
    "ORDER BY flights.hour, flights.minute;"
   ]
  },
  {
   "cell_type": "markdown",
   "metadata": {},
   "source": [
    "-- When the thief called he say that they were planning to take the earliest flight"
   ]
  },
  {
   "cell_type": "markdown",
   "metadata": {},
   "source": [
    "-- Create a temporary table for future analyze named thief"
   ]
  },
  {
   "cell_type": "code",
   "execution_count": 16,
   "metadata": {},
   "outputs": [
    {
     "data": {
      "text/html": [
       "<span style=\"None\">Running query in &#x27;sqlite:///fiftyville.db&#x27;</span>"
      ],
      "text/plain": [
       "Running query in 'sqlite:///fiftyville.db'"
      ]
     },
     "metadata": {},
     "output_type": "display_data"
    },
    {
     "data": {
      "text/html": [
       "<table>\n",
       "    <thead>\n",
       "        <tr>\n",
       "        </tr>\n",
       "    </thead>\n",
       "    <tbody>\n",
       "    </tbody>\n",
       "</table>"
      ],
      "text/plain": [
       "++\n",
       "||\n",
       "++\n",
       "++"
      ]
     },
     "execution_count": 16,
     "metadata": {},
     "output_type": "execute_result"
    }
   ],
   "source": [
    "%%sql\n",
    "\n",
    "-- Create a temporary table named thief\n",
    "CREATE TEMPORARY TABLE thief AS\n",
    "\n",
    "SELECT flight_id, origin_airport_id, destination_airport_id, \n",
    "flights.hour, flights.minute, \n",
    "name, phone_number, thief_suspects.passport_number \n",
    "FROM passengers\n",
    "JOIN thief_suspects ON passengers.passport_number = thief_suspects.passport_number\n",
    "JOIN flights ON passengers.flight_id = flights.id\n",
    "-- Select the corresponding day\n",
    "WHERE year = 2023 \n",
    "AND month = 7\n",
    "AND day = 29\n",
    "-- Order by departer time\n",
    "ORDER BY flights.hour, flights.minute\n",
    "-- SELCT the earliest flight\n",
    "LIMIT 1;"
   ]
  },
  {
   "cell_type": "code",
   "execution_count": 17,
   "metadata": {},
   "outputs": [
    {
     "data": {
      "text/html": [
       "<span style=\"None\">Running query in &#x27;sqlite:///fiftyville.db&#x27;</span>"
      ],
      "text/plain": [
       "Running query in 'sqlite:///fiftyville.db'"
      ]
     },
     "metadata": {},
     "output_type": "display_data"
    },
    {
     "data": {
      "text/html": [
       "<table>\n",
       "    <thead>\n",
       "        <tr>\n",
       "            <th>flight_id</th>\n",
       "            <th>origin_airport_id</th>\n",
       "            <th>destination_airport_id</th>\n",
       "            <th>hour</th>\n",
       "            <th>minute</th>\n",
       "            <th>name</th>\n",
       "            <th>phone_number</th>\n",
       "            <th>passport_number</th>\n",
       "        </tr>\n",
       "    </thead>\n",
       "    <tbody>\n",
       "        <tr>\n",
       "            <td>36</td>\n",
       "            <td>8</td>\n",
       "            <td>4</td>\n",
       "            <td>8</td>\n",
       "            <td>20</td>\n",
       "            <td>Bruce</td>\n",
       "            <td>(367) 555-5533</td>\n",
       "            <td>5773159633</td>\n",
       "        </tr>\n",
       "    </tbody>\n",
       "</table>"
      ],
      "text/plain": [
       "+-----------+-------------------+------------------------+------+--------+-------+----------------+-----------------+\n",
       "| flight_id | origin_airport_id | destination_airport_id | hour | minute |  name |  phone_number  | passport_number |\n",
       "+-----------+-------------------+------------------------+------+--------+-------+----------------+-----------------+\n",
       "|     36    |         8         |           4            |  8   |   20   | Bruce | (367) 555-5533 |    5773159633   |\n",
       "+-----------+-------------------+------------------------+------+--------+-------+----------------+-----------------+"
      ]
     },
     "execution_count": 17,
     "metadata": {},
     "output_type": "execute_result"
    }
   ],
   "source": [
    "%%sql\n",
    "\n",
    "-- Show thief table\n",
    "SELECT * FROM thief;"
   ]
  },
  {
   "cell_type": "code",
   "execution_count": 18,
   "metadata": {},
   "outputs": [
    {
     "data": {
      "text/html": [
       "<span style=\"None\">Running query in &#x27;sqlite:///fiftyville.db&#x27;</span>"
      ],
      "text/plain": [
       "Running query in 'sqlite:///fiftyville.db'"
      ]
     },
     "metadata": {},
     "output_type": "display_data"
    },
    {
     "data": {
      "text/html": [
       "<table>\n",
       "    <thead>\n",
       "        <tr>\n",
       "            <th>name</th>\n",
       "        </tr>\n",
       "    </thead>\n",
       "    <tbody>\n",
       "        <tr>\n",
       "            <td>Bruce</td>\n",
       "        </tr>\n",
       "    </tbody>\n",
       "</table>"
      ],
      "text/plain": [
       "+-------+\n",
       "|  name |\n",
       "+-------+\n",
       "| Bruce |\n",
       "+-------+"
      ]
     },
     "execution_count": 18,
     "metadata": {},
     "output_type": "execute_result"
    }
   ],
   "source": [
    "%%sql\n",
    "-- Show thief name\n",
    "SELECT name FROM thief;"
   ]
  },
  {
   "cell_type": "markdown",
   "metadata": {},
   "source": [
    "-- Get the city name where the thief went"
   ]
  },
  {
   "cell_type": "code",
   "execution_count": 19,
   "metadata": {},
   "outputs": [
    {
     "data": {
      "text/html": [
       "<span style=\"None\">Running query in &#x27;sqlite:///fiftyville.db&#x27;</span>"
      ],
      "text/plain": [
       "Running query in 'sqlite:///fiftyville.db'"
      ]
     },
     "metadata": {},
     "output_type": "display_data"
    },
    {
     "data": {
      "text/html": [
       "<table>\n",
       "    <thead>\n",
       "        <tr>\n",
       "            <th>city</th>\n",
       "        </tr>\n",
       "    </thead>\n",
       "    <tbody>\n",
       "        <tr>\n",
       "            <td>New York City</td>\n",
       "        </tr>\n",
       "    </tbody>\n",
       "</table>"
      ],
      "text/plain": [
       "+---------------+\n",
       "|      city     |\n",
       "+---------------+\n",
       "| New York City |\n",
       "+---------------+"
      ]
     },
     "execution_count": 19,
     "metadata": {},
     "output_type": "execute_result"
    }
   ],
   "source": [
    "%%sql\n",
    "-- Get the name of the name of the city the thief went\n",
    "SELECT city FROM airports\n",
    "JOIN thief ON thief.destination_airport_id = airports.id;"
   ]
  },
  {
   "cell_type": "markdown",
   "metadata": {},
   "source": [
    "-- Who is the accomplice ? Let's find who the thief asked the person on the other end of the phone to purchase the flight ticket.\n"
   ]
  },
  {
   "cell_type": "code",
   "execution_count": 20,
   "metadata": {},
   "outputs": [
    {
     "data": {
      "text/html": [
       "<span style=\"None\">Running query in &#x27;sqlite:///fiftyville.db&#x27;</span>"
      ],
      "text/plain": [
       "Running query in 'sqlite:///fiftyville.db'"
      ]
     },
     "metadata": {},
     "output_type": "display_data"
    },
    {
     "data": {
      "text/html": [
       "<table>\n",
       "    <thead>\n",
       "        <tr>\n",
       "            <th>name</th>\n",
       "        </tr>\n",
       "    </thead>\n",
       "    <tbody>\n",
       "        <tr>\n",
       "            <td>Robin</td>\n",
       "        </tr>\n",
       "    </tbody>\n",
       "</table>"
      ],
      "text/plain": [
       "+-------+\n",
       "|  name |\n",
       "+-------+\n",
       "| Robin |\n",
       "+-------+"
      ]
     },
     "execution_count": 20,
     "metadata": {},
     "output_type": "execute_result"
    }
   ],
   "source": [
    "%%sql\n",
    "\n",
    "-- Get the name of the accomplice\n",
    "SELECT name FROM people\n",
    "WHERE phone_number = (\n",
    "    \n",
    "    -- Get the phone number of the person the thief asked to purchase the flight ticket.\n",
    "    SELECT receiver FROM phone_calls\n",
    "    JOIN thief ON thief.phone_number = phone_calls.caller\n",
    "    WHERE year = 2023\n",
    "    AND month = 7\n",
    "    AND day = 28\n",
    "    AND duration <= 60\n",
    ");\n",
    "\n",
    "\n"
   ]
  }
 ],
 "metadata": {
  "kernelspec": {
   "display_name": "Python 3",
   "language": "python",
   "name": "python3"
  },
  "language_info": {
   "codemirror_mode": {
    "name": "ipython",
    "version": 3
   },
   "file_extension": ".py",
   "mimetype": "text/x-python",
   "name": "python",
   "nbconvert_exporter": "python",
   "pygments_lexer": "ipython3",
   "version": "3.11.9"
  }
 },
 "nbformat": 4,
 "nbformat_minor": 2
}
